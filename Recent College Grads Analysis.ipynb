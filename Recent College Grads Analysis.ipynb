{
 "cells": [
  {
   "cell_type": "code",
   "execution_count": 14,
   "id": "124c3e9c-4172-430c-8511-6ddd1e3c138f",
   "metadata": {},
   "outputs": [],
   "source": [
    "# NAME: MELCHIZEDEK ACKAH-BLAY\n",
    "# DATE: 2024-05-24"
   ]
  },
  {
   "cell_type": "code",
   "execution_count": 15,
   "id": "50b34cd3-24eb-4cff-ae01-10cb58696e56",
   "metadata": {},
   "outputs": [],
   "source": [
    "# LOADING LIBRARIES\n",
    "import pandas as pd\n",
    "import numpy as np\n",
    "import matplotlib.pyplot as plt\n",
    "import seaborn as sns"
   ]
  },
  {
   "cell_type": "code",
   "execution_count": 16,
   "id": "ea8f0077-064a-47bf-9bb8-fe6d4869066d",
   "metadata": {},
   "outputs": [],
   "source": [
    "# LOADING DATASET\n",
    "grads = pd.read_csv(r'/Users/melki/Desktop/recent-grads.csv')"
   ]
  },
  {
   "cell_type": "code",
   "execution_count": 17,
   "id": "65cfaf7d-51d7-42a0-a382-96f249b07f37",
   "metadata": {},
   "outputs": [],
   "source": [
    "pd.set_option('display.max_columns', None)"
   ]
  },
  {
   "cell_type": "code",
   "execution_count": 35,
   "id": "faf3bfdb-ec72-427e-8fbb-b50cf856f5ca",
   "metadata": {},
   "outputs": [
    {
     "data": {
      "text/html": [
       "<div>\n",
       "<style scoped>\n",
       "    .dataframe tbody tr th:only-of-type {\n",
       "        vertical-align: middle;\n",
       "    }\n",
       "\n",
       "    .dataframe tbody tr th {\n",
       "        vertical-align: top;\n",
       "    }\n",
       "\n",
       "    .dataframe thead th {\n",
       "        text-align: right;\n",
       "    }\n",
       "</style>\n",
       "<table border=\"1\" class=\"dataframe\">\n",
       "  <thead>\n",
       "    <tr style=\"text-align: right;\">\n",
       "      <th></th>\n",
       "      <th>index</th>\n",
       "      <th>Rank</th>\n",
       "      <th>Major_code</th>\n",
       "      <th>Major</th>\n",
       "      <th>Major_category</th>\n",
       "      <th>Total</th>\n",
       "      <th>Sample_size</th>\n",
       "      <th>Men</th>\n",
       "      <th>Women</th>\n",
       "      <th>ShareWomen</th>\n",
       "      <th>Employed</th>\n",
       "      <th>Full_time</th>\n",
       "      <th>Part_time</th>\n",
       "      <th>Full_time_year_round</th>\n",
       "      <th>Unemployed</th>\n",
       "      <th>Unemployment_rate</th>\n",
       "      <th>Median</th>\n",
       "      <th>P25th</th>\n",
       "      <th>P75th</th>\n",
       "      <th>College_jobs</th>\n",
       "      <th>Non_college_jobs</th>\n",
       "      <th>Low_wage_jobs</th>\n",
       "      <th>Employment Rate</th>\n",
       "    </tr>\n",
       "  </thead>\n",
       "  <tbody>\n",
       "    <tr>\n",
       "      <th>0</th>\n",
       "      <td>0</td>\n",
       "      <td>1</td>\n",
       "      <td>2419</td>\n",
       "      <td>PETROLEUM ENGINEERING</td>\n",
       "      <td>Engineering</td>\n",
       "      <td>2339</td>\n",
       "      <td>36</td>\n",
       "      <td>2057</td>\n",
       "      <td>282</td>\n",
       "      <td>0.120564</td>\n",
       "      <td>1976</td>\n",
       "      <td>1849</td>\n",
       "      <td>270</td>\n",
       "      <td>1207</td>\n",
       "      <td>37</td>\n",
       "      <td>0.018381</td>\n",
       "      <td>110000</td>\n",
       "      <td>95000</td>\n",
       "      <td>125000</td>\n",
       "      <td>1534</td>\n",
       "      <td>364</td>\n",
       "      <td>193</td>\n",
       "      <td>0.981619</td>\n",
       "    </tr>\n",
       "    <tr>\n",
       "      <th>1</th>\n",
       "      <td>1</td>\n",
       "      <td>2</td>\n",
       "      <td>2416</td>\n",
       "      <td>MINING AND MINERAL ENGINEERING</td>\n",
       "      <td>Engineering</td>\n",
       "      <td>756</td>\n",
       "      <td>7</td>\n",
       "      <td>679</td>\n",
       "      <td>77</td>\n",
       "      <td>0.101852</td>\n",
       "      <td>640</td>\n",
       "      <td>556</td>\n",
       "      <td>170</td>\n",
       "      <td>388</td>\n",
       "      <td>85</td>\n",
       "      <td>0.117241</td>\n",
       "      <td>75000</td>\n",
       "      <td>55000</td>\n",
       "      <td>90000</td>\n",
       "      <td>350</td>\n",
       "      <td>257</td>\n",
       "      <td>50</td>\n",
       "      <td>0.882759</td>\n",
       "    </tr>\n",
       "    <tr>\n",
       "      <th>2</th>\n",
       "      <td>2</td>\n",
       "      <td>3</td>\n",
       "      <td>2415</td>\n",
       "      <td>METALLURGICAL ENGINEERING</td>\n",
       "      <td>Engineering</td>\n",
       "      <td>856</td>\n",
       "      <td>3</td>\n",
       "      <td>725</td>\n",
       "      <td>131</td>\n",
       "      <td>0.153037</td>\n",
       "      <td>648</td>\n",
       "      <td>558</td>\n",
       "      <td>133</td>\n",
       "      <td>340</td>\n",
       "      <td>16</td>\n",
       "      <td>0.024096</td>\n",
       "      <td>73000</td>\n",
       "      <td>50000</td>\n",
       "      <td>105000</td>\n",
       "      <td>456</td>\n",
       "      <td>176</td>\n",
       "      <td>0</td>\n",
       "      <td>0.975904</td>\n",
       "    </tr>\n",
       "    <tr>\n",
       "      <th>3</th>\n",
       "      <td>3</td>\n",
       "      <td>4</td>\n",
       "      <td>2417</td>\n",
       "      <td>NAVAL ARCHITECTURE AND MARINE ENGINEERING</td>\n",
       "      <td>Engineering</td>\n",
       "      <td>1258</td>\n",
       "      <td>16</td>\n",
       "      <td>1123</td>\n",
       "      <td>135</td>\n",
       "      <td>0.107313</td>\n",
       "      <td>758</td>\n",
       "      <td>1069</td>\n",
       "      <td>150</td>\n",
       "      <td>692</td>\n",
       "      <td>40</td>\n",
       "      <td>0.050125</td>\n",
       "      <td>70000</td>\n",
       "      <td>43000</td>\n",
       "      <td>80000</td>\n",
       "      <td>529</td>\n",
       "      <td>102</td>\n",
       "      <td>0</td>\n",
       "      <td>0.949875</td>\n",
       "    </tr>\n",
       "    <tr>\n",
       "      <th>4</th>\n",
       "      <td>4</td>\n",
       "      <td>5</td>\n",
       "      <td>2405</td>\n",
       "      <td>CHEMICAL ENGINEERING</td>\n",
       "      <td>Engineering</td>\n",
       "      <td>32260</td>\n",
       "      <td>289</td>\n",
       "      <td>21239</td>\n",
       "      <td>11021</td>\n",
       "      <td>0.341631</td>\n",
       "      <td>25694</td>\n",
       "      <td>23170</td>\n",
       "      <td>5180</td>\n",
       "      <td>16697</td>\n",
       "      <td>1672</td>\n",
       "      <td>0.061098</td>\n",
       "      <td>65000</td>\n",
       "      <td>50000</td>\n",
       "      <td>75000</td>\n",
       "      <td>18314</td>\n",
       "      <td>4440</td>\n",
       "      <td>972</td>\n",
       "      <td>0.938902</td>\n",
       "    </tr>\n",
       "    <tr>\n",
       "      <th>...</th>\n",
       "      <td>...</td>\n",
       "      <td>...</td>\n",
       "      <td>...</td>\n",
       "      <td>...</td>\n",
       "      <td>...</td>\n",
       "      <td>...</td>\n",
       "      <td>...</td>\n",
       "      <td>...</td>\n",
       "      <td>...</td>\n",
       "      <td>...</td>\n",
       "      <td>...</td>\n",
       "      <td>...</td>\n",
       "      <td>...</td>\n",
       "      <td>...</td>\n",
       "      <td>...</td>\n",
       "      <td>...</td>\n",
       "      <td>...</td>\n",
       "      <td>...</td>\n",
       "      <td>...</td>\n",
       "      <td>...</td>\n",
       "      <td>...</td>\n",
       "      <td>...</td>\n",
       "      <td>...</td>\n",
       "    </tr>\n",
       "    <tr>\n",
       "      <th>168</th>\n",
       "      <td>168</td>\n",
       "      <td>169</td>\n",
       "      <td>3609</td>\n",
       "      <td>ZOOLOGY</td>\n",
       "      <td>Biology &amp; Life Science</td>\n",
       "      <td>8409</td>\n",
       "      <td>47</td>\n",
       "      <td>3050</td>\n",
       "      <td>5359</td>\n",
       "      <td>0.637293</td>\n",
       "      <td>6259</td>\n",
       "      <td>5043</td>\n",
       "      <td>2190</td>\n",
       "      <td>3602</td>\n",
       "      <td>304</td>\n",
       "      <td>0.046320</td>\n",
       "      <td>26000</td>\n",
       "      <td>20000</td>\n",
       "      <td>39000</td>\n",
       "      <td>2771</td>\n",
       "      <td>2947</td>\n",
       "      <td>743</td>\n",
       "      <td>0.953680</td>\n",
       "    </tr>\n",
       "    <tr>\n",
       "      <th>169</th>\n",
       "      <td>169</td>\n",
       "      <td>170</td>\n",
       "      <td>5201</td>\n",
       "      <td>EDUCATIONAL PSYCHOLOGY</td>\n",
       "      <td>Psychology &amp; Social Work</td>\n",
       "      <td>2854</td>\n",
       "      <td>7</td>\n",
       "      <td>522</td>\n",
       "      <td>2332</td>\n",
       "      <td>0.817099</td>\n",
       "      <td>2125</td>\n",
       "      <td>1848</td>\n",
       "      <td>572</td>\n",
       "      <td>1211</td>\n",
       "      <td>148</td>\n",
       "      <td>0.065112</td>\n",
       "      <td>25000</td>\n",
       "      <td>24000</td>\n",
       "      <td>34000</td>\n",
       "      <td>1488</td>\n",
       "      <td>615</td>\n",
       "      <td>82</td>\n",
       "      <td>0.934888</td>\n",
       "    </tr>\n",
       "    <tr>\n",
       "      <th>170</th>\n",
       "      <td>170</td>\n",
       "      <td>171</td>\n",
       "      <td>5202</td>\n",
       "      <td>CLINICAL PSYCHOLOGY</td>\n",
       "      <td>Psychology &amp; Social Work</td>\n",
       "      <td>2838</td>\n",
       "      <td>13</td>\n",
       "      <td>568</td>\n",
       "      <td>2270</td>\n",
       "      <td>0.799859</td>\n",
       "      <td>2101</td>\n",
       "      <td>1724</td>\n",
       "      <td>648</td>\n",
       "      <td>1293</td>\n",
       "      <td>368</td>\n",
       "      <td>0.149048</td>\n",
       "      <td>25000</td>\n",
       "      <td>25000</td>\n",
       "      <td>40000</td>\n",
       "      <td>986</td>\n",
       "      <td>870</td>\n",
       "      <td>622</td>\n",
       "      <td>0.850952</td>\n",
       "    </tr>\n",
       "    <tr>\n",
       "      <th>171</th>\n",
       "      <td>171</td>\n",
       "      <td>172</td>\n",
       "      <td>5203</td>\n",
       "      <td>COUNSELING PSYCHOLOGY</td>\n",
       "      <td>Psychology &amp; Social Work</td>\n",
       "      <td>4626</td>\n",
       "      <td>21</td>\n",
       "      <td>931</td>\n",
       "      <td>3695</td>\n",
       "      <td>0.798746</td>\n",
       "      <td>3777</td>\n",
       "      <td>3154</td>\n",
       "      <td>965</td>\n",
       "      <td>2738</td>\n",
       "      <td>214</td>\n",
       "      <td>0.053621</td>\n",
       "      <td>23400</td>\n",
       "      <td>19200</td>\n",
       "      <td>26000</td>\n",
       "      <td>2403</td>\n",
       "      <td>1245</td>\n",
       "      <td>308</td>\n",
       "      <td>0.946379</td>\n",
       "    </tr>\n",
       "    <tr>\n",
       "      <th>172</th>\n",
       "      <td>172</td>\n",
       "      <td>173</td>\n",
       "      <td>3501</td>\n",
       "      <td>LIBRARY SCIENCE</td>\n",
       "      <td>Education</td>\n",
       "      <td>1098</td>\n",
       "      <td>2</td>\n",
       "      <td>134</td>\n",
       "      <td>964</td>\n",
       "      <td>0.877960</td>\n",
       "      <td>742</td>\n",
       "      <td>593</td>\n",
       "      <td>237</td>\n",
       "      <td>410</td>\n",
       "      <td>87</td>\n",
       "      <td>0.104946</td>\n",
       "      <td>22000</td>\n",
       "      <td>20000</td>\n",
       "      <td>22000</td>\n",
       "      <td>288</td>\n",
       "      <td>338</td>\n",
       "      <td>192</td>\n",
       "      <td>0.895054</td>\n",
       "    </tr>\n",
       "  </tbody>\n",
       "</table>\n",
       "<p>173 rows × 23 columns</p>\n",
       "</div>"
      ],
      "text/plain": [
       "     index  Rank  Major_code                                      Major  \\\n",
       "0        0     1        2419                      PETROLEUM ENGINEERING   \n",
       "1        1     2        2416             MINING AND MINERAL ENGINEERING   \n",
       "2        2     3        2415                  METALLURGICAL ENGINEERING   \n",
       "3        3     4        2417  NAVAL ARCHITECTURE AND MARINE ENGINEERING   \n",
       "4        4     5        2405                       CHEMICAL ENGINEERING   \n",
       "..     ...   ...         ...                                        ...   \n",
       "168    168   169        3609                                    ZOOLOGY   \n",
       "169    169   170        5201                     EDUCATIONAL PSYCHOLOGY   \n",
       "170    170   171        5202                        CLINICAL PSYCHOLOGY   \n",
       "171    171   172        5203                      COUNSELING PSYCHOLOGY   \n",
       "172    172   173        3501                            LIBRARY SCIENCE   \n",
       "\n",
       "               Major_category  Total  Sample_size    Men  Women  ShareWomen  \\\n",
       "0                 Engineering   2339           36   2057    282    0.120564   \n",
       "1                 Engineering    756            7    679     77    0.101852   \n",
       "2                 Engineering    856            3    725    131    0.153037   \n",
       "3                 Engineering   1258           16   1123    135    0.107313   \n",
       "4                 Engineering  32260          289  21239  11021    0.341631   \n",
       "..                        ...    ...          ...    ...    ...         ...   \n",
       "168    Biology & Life Science   8409           47   3050   5359    0.637293   \n",
       "169  Psychology & Social Work   2854            7    522   2332    0.817099   \n",
       "170  Psychology & Social Work   2838           13    568   2270    0.799859   \n",
       "171  Psychology & Social Work   4626           21    931   3695    0.798746   \n",
       "172                 Education   1098            2    134    964    0.877960   \n",
       "\n",
       "     Employed  Full_time  Part_time  Full_time_year_round  Unemployed  \\\n",
       "0        1976       1849        270                  1207          37   \n",
       "1         640        556        170                   388          85   \n",
       "2         648        558        133                   340          16   \n",
       "3         758       1069        150                   692          40   \n",
       "4       25694      23170       5180                 16697        1672   \n",
       "..        ...        ...        ...                   ...         ...   \n",
       "168      6259       5043       2190                  3602         304   \n",
       "169      2125       1848        572                  1211         148   \n",
       "170      2101       1724        648                  1293         368   \n",
       "171      3777       3154        965                  2738         214   \n",
       "172       742        593        237                   410          87   \n",
       "\n",
       "     Unemployment_rate  Median  P25th   P75th  College_jobs  Non_college_jobs  \\\n",
       "0             0.018381  110000  95000  125000          1534               364   \n",
       "1             0.117241   75000  55000   90000           350               257   \n",
       "2             0.024096   73000  50000  105000           456               176   \n",
       "3             0.050125   70000  43000   80000           529               102   \n",
       "4             0.061098   65000  50000   75000         18314              4440   \n",
       "..                 ...     ...    ...     ...           ...               ...   \n",
       "168           0.046320   26000  20000   39000          2771              2947   \n",
       "169           0.065112   25000  24000   34000          1488               615   \n",
       "170           0.149048   25000  25000   40000           986               870   \n",
       "171           0.053621   23400  19200   26000          2403              1245   \n",
       "172           0.104946   22000  20000   22000           288               338   \n",
       "\n",
       "     Low_wage_jobs  Employment Rate  \n",
       "0              193         0.981619  \n",
       "1               50         0.882759  \n",
       "2                0         0.975904  \n",
       "3                0         0.949875  \n",
       "4              972         0.938902  \n",
       "..             ...              ...  \n",
       "168            743         0.953680  \n",
       "169             82         0.934888  \n",
       "170            622         0.850952  \n",
       "171            308         0.946379  \n",
       "172            192         0.895054  \n",
       "\n",
       "[173 rows x 23 columns]"
      ]
     },
     "execution_count": 35,
     "metadata": {},
     "output_type": "execute_result"
    }
   ],
   "source": [
    "grads"
   ]
  },
  {
   "cell_type": "code",
   "execution_count": 20,
   "id": "c1cda5b3-25f2-45ca-8d11-cebc9afbedc2",
   "metadata": {},
   "outputs": [],
   "source": [
    "#import spicy.stats as stats\n",
    "from sklearn import linear_model"
   ]
  },
  {
   "cell_type": "code",
   "execution_count": null,
   "id": "cdf6a871-46fc-4063-aae6-1aa86a12f8af",
   "metadata": {},
   "outputs": [],
   "source": [
    "# LOGISTIC REGRESSION ANALYSIS"
   ]
  },
  {
   "cell_type": "code",
   "execution_count": null,
   "id": "7ecbfe19-f8e1-4ec1-aa7f-3dd44b6345fd",
   "metadata": {},
   "outputs": [],
   "source": []
  },
  {
   "cell_type": "code",
   "execution_count": null,
   "id": "f711884e-ceca-4154-a26c-da85284591aa",
   "metadata": {},
   "outputs": [],
   "source": [
    "# DOES HIGHER EMPLOYMENT RATES PREDICT HIGH SALARY RANGES"
   ]
  },
  {
   "cell_type": "code",
   "execution_count": 26,
   "id": "8f623bf2-a8a0-4aee-8ae2-c0d509a01b73",
   "metadata": {},
   "outputs": [],
   "source": [
    "lm = linear_model.LinearRegression()"
   ]
  },
  {
   "cell_type": "code",
   "execution_count": 31,
   "id": "467d592b-9ee2-4404-8589-803ff492be73",
   "metadata": {},
   "outputs": [
    {
     "data": {
      "text/html": [
       "<style>#sk-container-id-1 {color: black;background-color: white;}#sk-container-id-1 pre{padding: 0;}#sk-container-id-1 div.sk-toggleable {background-color: white;}#sk-container-id-1 label.sk-toggleable__label {cursor: pointer;display: block;width: 100%;margin-bottom: 0;padding: 0.3em;box-sizing: border-box;text-align: center;}#sk-container-id-1 label.sk-toggleable__label-arrow:before {content: \"▸\";float: left;margin-right: 0.25em;color: #696969;}#sk-container-id-1 label.sk-toggleable__label-arrow:hover:before {color: black;}#sk-container-id-1 div.sk-estimator:hover label.sk-toggleable__label-arrow:before {color: black;}#sk-container-id-1 div.sk-toggleable__content {max-height: 0;max-width: 0;overflow: hidden;text-align: left;background-color: #f0f8ff;}#sk-container-id-1 div.sk-toggleable__content pre {margin: 0.2em;color: black;border-radius: 0.25em;background-color: #f0f8ff;}#sk-container-id-1 input.sk-toggleable__control:checked~div.sk-toggleable__content {max-height: 200px;max-width: 100%;overflow: auto;}#sk-container-id-1 input.sk-toggleable__control:checked~label.sk-toggleable__label-arrow:before {content: \"▾\";}#sk-container-id-1 div.sk-estimator input.sk-toggleable__control:checked~label.sk-toggleable__label {background-color: #d4ebff;}#sk-container-id-1 div.sk-label input.sk-toggleable__control:checked~label.sk-toggleable__label {background-color: #d4ebff;}#sk-container-id-1 input.sk-hidden--visually {border: 0;clip: rect(1px 1px 1px 1px);clip: rect(1px, 1px, 1px, 1px);height: 1px;margin: -1px;overflow: hidden;padding: 0;position: absolute;width: 1px;}#sk-container-id-1 div.sk-estimator {font-family: monospace;background-color: #f0f8ff;border: 1px dotted black;border-radius: 0.25em;box-sizing: border-box;margin-bottom: 0.5em;}#sk-container-id-1 div.sk-estimator:hover {background-color: #d4ebff;}#sk-container-id-1 div.sk-parallel-item::after {content: \"\";width: 100%;border-bottom: 1px solid gray;flex-grow: 1;}#sk-container-id-1 div.sk-label:hover label.sk-toggleable__label {background-color: #d4ebff;}#sk-container-id-1 div.sk-serial::before {content: \"\";position: absolute;border-left: 1px solid gray;box-sizing: border-box;top: 0;bottom: 0;left: 50%;z-index: 0;}#sk-container-id-1 div.sk-serial {display: flex;flex-direction: column;align-items: center;background-color: white;padding-right: 0.2em;padding-left: 0.2em;position: relative;}#sk-container-id-1 div.sk-item {position: relative;z-index: 1;}#sk-container-id-1 div.sk-parallel {display: flex;align-items: stretch;justify-content: center;background-color: white;position: relative;}#sk-container-id-1 div.sk-item::before, #sk-container-id-1 div.sk-parallel-item::before {content: \"\";position: absolute;border-left: 1px solid gray;box-sizing: border-box;top: 0;bottom: 0;left: 50%;z-index: -1;}#sk-container-id-1 div.sk-parallel-item {display: flex;flex-direction: column;z-index: 1;position: relative;background-color: white;}#sk-container-id-1 div.sk-parallel-item:first-child::after {align-self: flex-end;width: 50%;}#sk-container-id-1 div.sk-parallel-item:last-child::after {align-self: flex-start;width: 50%;}#sk-container-id-1 div.sk-parallel-item:only-child::after {width: 0;}#sk-container-id-1 div.sk-dashed-wrapped {border: 1px dashed gray;margin: 0 0.4em 0.5em 0.4em;box-sizing: border-box;padding-bottom: 0.4em;background-color: white;}#sk-container-id-1 div.sk-label label {font-family: monospace;font-weight: bold;display: inline-block;line-height: 1.2em;}#sk-container-id-1 div.sk-label-container {text-align: center;}#sk-container-id-1 div.sk-container {/* jupyter's `normalize.less` sets `[hidden] { display: none; }` but bootstrap.min.css set `[hidden] { display: none !important; }` so we also need the `!important` here to be able to override the default hidden behavior on the sphinx rendered scikit-learn.org. See: https://github.com/scikit-learn/scikit-learn/issues/21755 */display: inline-block !important;position: relative;}#sk-container-id-1 div.sk-text-repr-fallback {display: none;}</style><div id=\"sk-container-id-1\" class=\"sk-top-container\"><div class=\"sk-text-repr-fallback\"><pre>LinearRegression()</pre><b>In a Jupyter environment, please rerun this cell to show the HTML representation or trust the notebook. <br />On GitHub, the HTML representation is unable to render, please try loading this page with nbviewer.org.</b></div><div class=\"sk-container\" hidden><div class=\"sk-item\"><div class=\"sk-estimator sk-toggleable\"><input class=\"sk-toggleable__control sk-hidden--visually\" id=\"sk-estimator-id-1\" type=\"checkbox\" checked><label for=\"sk-estimator-id-1\" class=\"sk-toggleable__label sk-toggleable__label-arrow\">LinearRegression</label><div class=\"sk-toggleable__content\"><pre>LinearRegression()</pre></div></div></div></div></div>"
      ],
      "text/plain": [
       "LinearRegression()"
      ]
     },
     "execution_count": 31,
     "metadata": {},
     "output_type": "execute_result"
    }
   ],
   "source": [
    "lm.fit(X = pd.DataFrame(grads['Employment Rate']), y = grads['Median'])"
   ]
  },
  {
   "cell_type": "code",
   "execution_count": 32,
   "id": "aee2d45d-d99b-4422-b8a3-7f46cd6c2c87",
   "metadata": {},
   "outputs": [
    {
     "name": "stdout",
     "output_type": "stream",
     "text": [
      "586.4835264333669\n"
     ]
    }
   ],
   "source": [
    "#finding the model y intercept\n",
    "print(lm.intercept_)"
   ]
  },
  {
   "cell_type": "code",
   "execution_count": 33,
   "id": "010ccb3e-9503-4406-b33e-f86ef363e054",
   "metadata": {},
   "outputs": [
    {
     "name": "stdout",
     "output_type": "stream",
     "text": [
      "\n",
      "\n",
      "\n",
      "This y intercept indicates that when the Employment Rate is 0%, A new grad would expect to make a median of $586.48\n",
      "\n",
      "\n",
      "\n"
     ]
    }
   ],
   "source": [
    "print('\\n\\n\\nThis y intercept indicates that when the Employment Rate is 0%, A new grad would expect to make a median of $586.48\\n\\n\\n')"
   ]
  },
  {
   "cell_type": "code",
   "execution_count": 34,
   "id": "d9fd7e6a-bbc9-4998-bbc7-982de6504a68",
   "metadata": {},
   "outputs": [
    {
     "name": "stdout",
     "output_type": "stream",
     "text": [
      "[42478.44280295]\n"
     ]
    }
   ],
   "source": [
    "#find the model coefficient\n",
    "print(lm.coef_)"
   ]
  },
  {
   "cell_type": "code",
   "execution_count": 39,
   "id": "f356a848-72c2-48e2-b819-2fc54ea5e77e",
   "metadata": {},
   "outputs": [
    {
     "data": {
      "text/plain": [
       "0.822773593"
      ]
     },
     "execution_count": 39,
     "metadata": {},
     "output_type": "execute_result"
    }
   ],
   "source": [
    "grads['Employment Rate'].min()"
   ]
  },
  {
   "cell_type": "code",
   "execution_count": 41,
   "id": "56908542-fb2f-4828-9466-f8af7a0a7bee",
   "metadata": {},
   "outputs": [
    {
     "name": "stdout",
     "output_type": "stream",
     "text": [
      "\n",
      "\n",
      "\n",
      "The coefficient suggests that holding all other variable constant, if the employment rate was to increase by 1 unit, a new gradcan expect a  salary increase of $42,478. The lowest employment rate is 0.822, so a 1 unit increase is not realistic as it goes over the maximum of 1.\n",
      "\n",
      "\n",
      "\n"
     ]
    }
   ],
   "source": [
    "print('\\n\\n\\nThe coefficient suggests that holding all other variable constant, if the employment rate was to increase by 1 unit, a new grad\\\n",
    "can expect a  salary increase of $42,478. The lowest employment rate is 0.822, so a 1 unit increase is not realistic as it goes over the \\\n",
    "maximum of 1.\\n\\n\\n')"
   ]
  },
  {
   "cell_type": "code",
   "execution_count": 42,
   "id": "13c507fb-c636-4a58-ac12-c3c84c9d6d28",
   "metadata": {},
   "outputs": [
    {
     "data": {
      "text/plain": [
       "0.01224441558793532"
      ]
     },
     "execution_count": 42,
     "metadata": {},
     "output_type": "execute_result"
    }
   ],
   "source": [
    "# R squared\n",
    "lm.score(X = pd.DataFrame(grads['Employment Rate']), y = grads['Median'])"
   ]
  },
  {
   "cell_type": "code",
   "execution_count": 44,
   "id": "4b116b4d-596b-4daf-90db-95b08919c5d7",
   "metadata": {},
   "outputs": [
    {
     "name": "stdout",
     "output_type": "stream",
     "text": [
      "\n",
      "\n",
      "\n",
      "The significantly low R-Squared of 0.0122 suggest that just about 1.22% of the variance of median income can be attributed to the differences in the employment rate. In other words, the employment rate is a poor indicator of median salary in this context\n",
      "\n",
      "\n",
      "\n"
     ]
    }
   ],
   "source": [
    "print('\\n\\n\\nThe significantly low R-Squared of 0.0122 suggest that just about 1.22% of the variance of median income can be attributed to the\\\n",
    " differences in the employment rate. In other words, the employment rate is a poor indicator of median salary in this context\\n\\n\\n')"
   ]
  },
  {
   "cell_type": "code",
   "execution_count": 46,
   "id": "43629636-b98a-4b45-b596-5a0f5d7905ba",
   "metadata": {},
   "outputs": [
    {
     "data": {
      "text/plain": [
       "count      173.000000\n",
       "mean    -40150.513674\n",
       "std       1269.197209\n",
       "min     -43063.926329\n",
       "25%     -40903.417437\n",
       "50%     -40150.650376\n",
       "75%     -39344.724027\n",
       "max     -35535.801763\n",
       "Name: Employment Rate, dtype: float64"
      ]
     },
     "execution_count": 46,
     "metadata": {},
     "output_type": "execute_result"
    }
   ],
   "source": [
    "#calculating model residuals\n",
    "\n",
    "#residuals = actual-predicted\n",
    "predicted = lm.predict(X = pd.DataFrame(grads['Employment Rate']))\n",
    "residuals = grads['Employment Rate'] - predicted\n",
    "residuals.describe()"
   ]
  },
  {
   "cell_type": "code",
   "execution_count": 47,
   "id": "9f678651-4d8a-47aa-87a3-1d9a229c8ac7",
   "metadata": {},
   "outputs": [
    {
     "name": "stdout",
     "output_type": "stream",
     "text": [
      "\n",
      "\n",
      "\n",
      "From the residual analysis, the data points skew very far from the mean by over 40,000 making them a poor attributor or inference point\n",
      "\n",
      "\n",
      "\n"
     ]
    }
   ],
   "source": [
    "print('\\n\\n\\nFrom the residual analysis, the data points skew very far from the mean by over 40,000 making them a poor attributor or inference\\\n",
    " point\\n\\n\\n')"
   ]
  },
  {
   "cell_type": "code",
   "execution_count": null,
   "id": "4cb6cf2f-246b-4b2e-8b54-1f9d08d4239f",
   "metadata": {},
   "outputs": [],
   "source": []
  },
  {
   "cell_type": "code",
   "execution_count": null,
   "id": "93e1fbc3-236e-4815-820d-a28104141f1c",
   "metadata": {},
   "outputs": [],
   "source": []
  },
  {
   "cell_type": "code",
   "execution_count": 51,
   "id": "e968fad3-a7b0-41ac-8775-007b2537db41",
   "metadata": {},
   "outputs": [],
   "source": [
    "# DOES SHARE OF WOMEN IN A FIELD PREDICT HIGH SALARIES"
   ]
  },
  {
   "cell_type": "code",
   "execution_count": 50,
   "id": "16ebca3c-05b2-46fb-88f3-c53c7ee854c4",
   "metadata": {},
   "outputs": [],
   "source": [
    "#initialize linear model\n",
    "lm2 = linear_model.LinearRegression()"
   ]
  },
  {
   "cell_type": "code",
   "execution_count": 52,
   "id": "ba494bdc-5ef2-4127-a255-9513b9fcd45b",
   "metadata": {},
   "outputs": [
    {
     "data": {
      "text/html": [
       "<style>#sk-container-id-2 {color: black;background-color: white;}#sk-container-id-2 pre{padding: 0;}#sk-container-id-2 div.sk-toggleable {background-color: white;}#sk-container-id-2 label.sk-toggleable__label {cursor: pointer;display: block;width: 100%;margin-bottom: 0;padding: 0.3em;box-sizing: border-box;text-align: center;}#sk-container-id-2 label.sk-toggleable__label-arrow:before {content: \"▸\";float: left;margin-right: 0.25em;color: #696969;}#sk-container-id-2 label.sk-toggleable__label-arrow:hover:before {color: black;}#sk-container-id-2 div.sk-estimator:hover label.sk-toggleable__label-arrow:before {color: black;}#sk-container-id-2 div.sk-toggleable__content {max-height: 0;max-width: 0;overflow: hidden;text-align: left;background-color: #f0f8ff;}#sk-container-id-2 div.sk-toggleable__content pre {margin: 0.2em;color: black;border-radius: 0.25em;background-color: #f0f8ff;}#sk-container-id-2 input.sk-toggleable__control:checked~div.sk-toggleable__content {max-height: 200px;max-width: 100%;overflow: auto;}#sk-container-id-2 input.sk-toggleable__control:checked~label.sk-toggleable__label-arrow:before {content: \"▾\";}#sk-container-id-2 div.sk-estimator input.sk-toggleable__control:checked~label.sk-toggleable__label {background-color: #d4ebff;}#sk-container-id-2 div.sk-label input.sk-toggleable__control:checked~label.sk-toggleable__label {background-color: #d4ebff;}#sk-container-id-2 input.sk-hidden--visually {border: 0;clip: rect(1px 1px 1px 1px);clip: rect(1px, 1px, 1px, 1px);height: 1px;margin: -1px;overflow: hidden;padding: 0;position: absolute;width: 1px;}#sk-container-id-2 div.sk-estimator {font-family: monospace;background-color: #f0f8ff;border: 1px dotted black;border-radius: 0.25em;box-sizing: border-box;margin-bottom: 0.5em;}#sk-container-id-2 div.sk-estimator:hover {background-color: #d4ebff;}#sk-container-id-2 div.sk-parallel-item::after {content: \"\";width: 100%;border-bottom: 1px solid gray;flex-grow: 1;}#sk-container-id-2 div.sk-label:hover label.sk-toggleable__label {background-color: #d4ebff;}#sk-container-id-2 div.sk-serial::before {content: \"\";position: absolute;border-left: 1px solid gray;box-sizing: border-box;top: 0;bottom: 0;left: 50%;z-index: 0;}#sk-container-id-2 div.sk-serial {display: flex;flex-direction: column;align-items: center;background-color: white;padding-right: 0.2em;padding-left: 0.2em;position: relative;}#sk-container-id-2 div.sk-item {position: relative;z-index: 1;}#sk-container-id-2 div.sk-parallel {display: flex;align-items: stretch;justify-content: center;background-color: white;position: relative;}#sk-container-id-2 div.sk-item::before, #sk-container-id-2 div.sk-parallel-item::before {content: \"\";position: absolute;border-left: 1px solid gray;box-sizing: border-box;top: 0;bottom: 0;left: 50%;z-index: -1;}#sk-container-id-2 div.sk-parallel-item {display: flex;flex-direction: column;z-index: 1;position: relative;background-color: white;}#sk-container-id-2 div.sk-parallel-item:first-child::after {align-self: flex-end;width: 50%;}#sk-container-id-2 div.sk-parallel-item:last-child::after {align-self: flex-start;width: 50%;}#sk-container-id-2 div.sk-parallel-item:only-child::after {width: 0;}#sk-container-id-2 div.sk-dashed-wrapped {border: 1px dashed gray;margin: 0 0.4em 0.5em 0.4em;box-sizing: border-box;padding-bottom: 0.4em;background-color: white;}#sk-container-id-2 div.sk-label label {font-family: monospace;font-weight: bold;display: inline-block;line-height: 1.2em;}#sk-container-id-2 div.sk-label-container {text-align: center;}#sk-container-id-2 div.sk-container {/* jupyter's `normalize.less` sets `[hidden] { display: none; }` but bootstrap.min.css set `[hidden] { display: none !important; }` so we also need the `!important` here to be able to override the default hidden behavior on the sphinx rendered scikit-learn.org. See: https://github.com/scikit-learn/scikit-learn/issues/21755 */display: inline-block !important;position: relative;}#sk-container-id-2 div.sk-text-repr-fallback {display: none;}</style><div id=\"sk-container-id-2\" class=\"sk-top-container\"><div class=\"sk-text-repr-fallback\"><pre>LinearRegression()</pre><b>In a Jupyter environment, please rerun this cell to show the HTML representation or trust the notebook. <br />On GitHub, the HTML representation is unable to render, please try loading this page with nbviewer.org.</b></div><div class=\"sk-container\" hidden><div class=\"sk-item\"><div class=\"sk-estimator sk-toggleable\"><input class=\"sk-toggleable__control sk-hidden--visually\" id=\"sk-estimator-id-2\" type=\"checkbox\" checked><label for=\"sk-estimator-id-2\" class=\"sk-toggleable__label sk-toggleable__label-arrow\">LinearRegression</label><div class=\"sk-toggleable__content\"><pre>LinearRegression()</pre></div></div></div></div></div>"
      ],
      "text/plain": [
       "LinearRegression()"
      ]
     },
     "execution_count": 52,
     "metadata": {},
     "output_type": "execute_result"
    }
   ],
   "source": [
    "#test the model\n",
    "lm2.fit(X = pd.DataFrame(grads['ShareWomen']), y = grads['Median'])"
   ]
  },
  {
   "cell_type": "code",
   "execution_count": 54,
   "id": "b9a57acc-f48e-46c1-bec1-50108168fa04",
   "metadata": {},
   "outputs": [
    {
     "name": "stdout",
     "output_type": "stream",
     "text": [
      "56130.94265273765\n"
     ]
    }
   ],
   "source": [
    "#find the model y-intercept\n",
    "print(lm2.intercept_)"
   ]
  },
  {
   "cell_type": "code",
   "execution_count": 55,
   "id": "30cd636b-b746-4604-941d-d5cefc6a072a",
   "metadata": {},
   "outputs": [
    {
     "name": "stdout",
     "output_type": "stream",
     "text": [
      "\n",
      "\n",
      "\n",
      "The y-intercept of 56130.94 suggests the when the share of women in a field is 0, the median income of the field is approximately $56,130.94 holding other variables constant\n",
      "\n",
      "\n",
      "\n"
     ]
    }
   ],
   "source": [
    "print('\\n\\n\\nThe y-intercept of 56130.94 suggests the when the share of women in a field is 0, the median income of the field is approximately\\\n",
    " $56,130.94 holding other variables constant\\n\\n\\n')"
   ]
  },
  {
   "cell_type": "code",
   "execution_count": 56,
   "id": "89cab8f7-a877-402e-880c-db0d88d3ae46",
   "metadata": {},
   "outputs": [
    {
     "name": "stdout",
     "output_type": "stream",
     "text": [
      "[-30579.8322835]\n"
     ]
    }
   ],
   "source": [
    "#find the model coefficient\n",
    "print(lm2.coef_)"
   ]
  },
  {
   "cell_type": "code",
   "execution_count": 58,
   "id": "3def3fc7-e53f-4221-bbaa-a6eb364386b1",
   "metadata": {},
   "outputs": [
    {
     "name": "stdout",
     "output_type": "stream",
     "text": [
      "\n",
      "\n",
      "\n",
      "The model coefficient of 30579.83 suggests that with every 1 unit increase in the share of women in a field, the median income of the field  decreases by $30,579.83 dollars\n",
      "\n",
      "\n",
      "\n"
     ]
    }
   ],
   "source": [
    "print('\\n\\n\\nThe model coefficient of 30579.83 suggests that with every 1 unit increase in the share of women in a field, the median income of the\\\n",
    " field  decreases by $30,579.83 dollars\\n\\n\\n')"
   ]
  },
  {
   "cell_type": "code",
   "execution_count": 59,
   "id": "0f783a57-58ae-4ef0-99a4-96477227551a",
   "metadata": {},
   "outputs": [
    {
     "data": {
      "text/plain": [
       "0.3778701988543526"
      ]
     },
     "execution_count": 59,
     "metadata": {},
     "output_type": "execute_result"
    }
   ],
   "source": [
    "#find model R-Squared\n",
    "lm2.score(X = pd.DataFrame(grads['ShareWomen']), y = grads['Median'])"
   ]
  },
  {
   "cell_type": "code",
   "execution_count": 61,
   "id": "00759e6f-29e1-48f5-a711-782880b9a29e",
   "metadata": {},
   "outputs": [
    {
     "name": "stdout",
     "output_type": "stream",
     "text": [
      "\n",
      "\n",
      "\n",
      "The model coefficient of 0.3778701 declares that about 37.89% of the variance in median income can be attributed to the differences in the   share of women\n",
      "\n",
      "\n",
      "\n"
     ]
    }
   ],
   "source": [
    "print('\\n\\n\\nThe model coefficient of 0.3778701 declares that about 37.89% of the variance in median income can be attributed to the differences\\\n",
    " in the   share of women\\n\\n\\n')"
   ]
  },
  {
   "cell_type": "code",
   "execution_count": 63,
   "id": "5ac5341b-aee4-4a79-b702-154eca69476f",
   "metadata": {},
   "outputs": [
    {
     "data": {
      "text/plain": [
       "count      173.000000\n",
       "mean    -40150.922537\n",
       "std       7051.082959\n",
       "min     -56130.942653\n",
       "25%     -45743.521321\n",
       "50%     -39748.353921\n",
       "75%     -34662.580596\n",
       "max     -26499.532582\n",
       "Name: ShareWomen, dtype: float64"
      ]
     },
     "execution_count": 63,
     "metadata": {},
     "output_type": "execute_result"
    }
   ],
   "source": [
    "#find the model residuals\n",
    "\n",
    "#residuals = actual = predicted\n",
    "predicted2 = lm2.predict(X = pd.DataFrame(grads['ShareWomen']))\n",
    "residuals2 = grads['ShareWomen'] - predicted2\n",
    "residuals2.describe()"
   ]
  },
  {
   "cell_type": "code",
   "execution_count": null,
   "id": "962bde65-1ff8-4f48-961e-fec93127d666",
   "metadata": {},
   "outputs": [],
   "source": []
  },
  {
   "cell_type": "code",
   "execution_count": null,
   "id": "20ea1048-0f61-4f8a-b444-94e8e84cc669",
   "metadata": {},
   "outputs": [],
   "source": []
  },
  {
   "cell_type": "code",
   "execution_count": 64,
   "id": "5e496303-880a-4233-9182-f1fcf6484a25",
   "metadata": {},
   "outputs": [],
   "source": [
    "# DOES BEING A MAN PREDICT BEING A HIGH EARNER"
   ]
  },
  {
   "cell_type": "code",
   "execution_count": null,
   "id": "81013b96-420b-49ae-bb1a-83f4c3b06386",
   "metadata": {},
   "outputs": [],
   "source": [
    "# create a new column to store the share of men per major (number of men/total)"
   ]
  },
  {
   "cell_type": "code",
   "execution_count": 66,
   "id": "0304caec-042d-4f28-9ab9-6de87aae931e",
   "metadata": {},
   "outputs": [],
   "source": [
    "grads['male_proportion'] = grads['Men'] / grads['Total']"
   ]
  },
  {
   "cell_type": "code",
   "execution_count": 67,
   "id": "95f2ea2e-cab0-4329-9a1c-2ba50cdc505b",
   "metadata": {},
   "outputs": [
    {
     "data": {
      "text/html": [
       "<div>\n",
       "<style scoped>\n",
       "    .dataframe tbody tr th:only-of-type {\n",
       "        vertical-align: middle;\n",
       "    }\n",
       "\n",
       "    .dataframe tbody tr th {\n",
       "        vertical-align: top;\n",
       "    }\n",
       "\n",
       "    .dataframe thead th {\n",
       "        text-align: right;\n",
       "    }\n",
       "</style>\n",
       "<table border=\"1\" class=\"dataframe\">\n",
       "  <thead>\n",
       "    <tr style=\"text-align: right;\">\n",
       "      <th></th>\n",
       "      <th>male_proportion</th>\n",
       "    </tr>\n",
       "  </thead>\n",
       "  <tbody>\n",
       "    <tr>\n",
       "      <th>0</th>\n",
       "      <td>0.879436</td>\n",
       "    </tr>\n",
       "    <tr>\n",
       "      <th>1</th>\n",
       "      <td>0.898148</td>\n",
       "    </tr>\n",
       "    <tr>\n",
       "      <th>2</th>\n",
       "      <td>0.846963</td>\n",
       "    </tr>\n",
       "    <tr>\n",
       "      <th>3</th>\n",
       "      <td>0.892687</td>\n",
       "    </tr>\n",
       "    <tr>\n",
       "      <th>4</th>\n",
       "      <td>0.658369</td>\n",
       "    </tr>\n",
       "  </tbody>\n",
       "</table>\n",
       "</div>"
      ],
      "text/plain": [
       "   male_proportion\n",
       "0         0.879436\n",
       "1         0.898148\n",
       "2         0.846963\n",
       "3         0.892687\n",
       "4         0.658369"
      ]
     },
     "execution_count": 67,
     "metadata": {},
     "output_type": "execute_result"
    }
   ],
   "source": [
    "# preview the new column\n",
    "grads[['male_proportion']].head(5)"
   ]
  },
  {
   "cell_type": "code",
   "execution_count": 68,
   "id": "dac1a170-2d14-4f00-b7fb-eb305db3d992",
   "metadata": {},
   "outputs": [],
   "source": [
    "#initial linear model\n",
    "lm3 = linear_model.LinearRegression()"
   ]
  },
  {
   "cell_type": "code",
   "execution_count": 70,
   "id": "2a70b2e9-cce8-46ad-9f90-a16cf24dd65e",
   "metadata": {},
   "outputs": [
    {
     "data": {
      "text/html": [
       "<style>#sk-container-id-3 {color: black;background-color: white;}#sk-container-id-3 pre{padding: 0;}#sk-container-id-3 div.sk-toggleable {background-color: white;}#sk-container-id-3 label.sk-toggleable__label {cursor: pointer;display: block;width: 100%;margin-bottom: 0;padding: 0.3em;box-sizing: border-box;text-align: center;}#sk-container-id-3 label.sk-toggleable__label-arrow:before {content: \"▸\";float: left;margin-right: 0.25em;color: #696969;}#sk-container-id-3 label.sk-toggleable__label-arrow:hover:before {color: black;}#sk-container-id-3 div.sk-estimator:hover label.sk-toggleable__label-arrow:before {color: black;}#sk-container-id-3 div.sk-toggleable__content {max-height: 0;max-width: 0;overflow: hidden;text-align: left;background-color: #f0f8ff;}#sk-container-id-3 div.sk-toggleable__content pre {margin: 0.2em;color: black;border-radius: 0.25em;background-color: #f0f8ff;}#sk-container-id-3 input.sk-toggleable__control:checked~div.sk-toggleable__content {max-height: 200px;max-width: 100%;overflow: auto;}#sk-container-id-3 input.sk-toggleable__control:checked~label.sk-toggleable__label-arrow:before {content: \"▾\";}#sk-container-id-3 div.sk-estimator input.sk-toggleable__control:checked~label.sk-toggleable__label {background-color: #d4ebff;}#sk-container-id-3 div.sk-label input.sk-toggleable__control:checked~label.sk-toggleable__label {background-color: #d4ebff;}#sk-container-id-3 input.sk-hidden--visually {border: 0;clip: rect(1px 1px 1px 1px);clip: rect(1px, 1px, 1px, 1px);height: 1px;margin: -1px;overflow: hidden;padding: 0;position: absolute;width: 1px;}#sk-container-id-3 div.sk-estimator {font-family: monospace;background-color: #f0f8ff;border: 1px dotted black;border-radius: 0.25em;box-sizing: border-box;margin-bottom: 0.5em;}#sk-container-id-3 div.sk-estimator:hover {background-color: #d4ebff;}#sk-container-id-3 div.sk-parallel-item::after {content: \"\";width: 100%;border-bottom: 1px solid gray;flex-grow: 1;}#sk-container-id-3 div.sk-label:hover label.sk-toggleable__label {background-color: #d4ebff;}#sk-container-id-3 div.sk-serial::before {content: \"\";position: absolute;border-left: 1px solid gray;box-sizing: border-box;top: 0;bottom: 0;left: 50%;z-index: 0;}#sk-container-id-3 div.sk-serial {display: flex;flex-direction: column;align-items: center;background-color: white;padding-right: 0.2em;padding-left: 0.2em;position: relative;}#sk-container-id-3 div.sk-item {position: relative;z-index: 1;}#sk-container-id-3 div.sk-parallel {display: flex;align-items: stretch;justify-content: center;background-color: white;position: relative;}#sk-container-id-3 div.sk-item::before, #sk-container-id-3 div.sk-parallel-item::before {content: \"\";position: absolute;border-left: 1px solid gray;box-sizing: border-box;top: 0;bottom: 0;left: 50%;z-index: -1;}#sk-container-id-3 div.sk-parallel-item {display: flex;flex-direction: column;z-index: 1;position: relative;background-color: white;}#sk-container-id-3 div.sk-parallel-item:first-child::after {align-self: flex-end;width: 50%;}#sk-container-id-3 div.sk-parallel-item:last-child::after {align-self: flex-start;width: 50%;}#sk-container-id-3 div.sk-parallel-item:only-child::after {width: 0;}#sk-container-id-3 div.sk-dashed-wrapped {border: 1px dashed gray;margin: 0 0.4em 0.5em 0.4em;box-sizing: border-box;padding-bottom: 0.4em;background-color: white;}#sk-container-id-3 div.sk-label label {font-family: monospace;font-weight: bold;display: inline-block;line-height: 1.2em;}#sk-container-id-3 div.sk-label-container {text-align: center;}#sk-container-id-3 div.sk-container {/* jupyter's `normalize.less` sets `[hidden] { display: none; }` but bootstrap.min.css set `[hidden] { display: none !important; }` so we also need the `!important` here to be able to override the default hidden behavior on the sphinx rendered scikit-learn.org. See: https://github.com/scikit-learn/scikit-learn/issues/21755 */display: inline-block !important;position: relative;}#sk-container-id-3 div.sk-text-repr-fallback {display: none;}</style><div id=\"sk-container-id-3\" class=\"sk-top-container\"><div class=\"sk-text-repr-fallback\"><pre>LinearRegression()</pre><b>In a Jupyter environment, please rerun this cell to show the HTML representation or trust the notebook. <br />On GitHub, the HTML representation is unable to render, please try loading this page with nbviewer.org.</b></div><div class=\"sk-container\" hidden><div class=\"sk-item\"><div class=\"sk-estimator sk-toggleable\"><input class=\"sk-toggleable__control sk-hidden--visually\" id=\"sk-estimator-id-3\" type=\"checkbox\" checked><label for=\"sk-estimator-id-3\" class=\"sk-toggleable__label sk-toggleable__label-arrow\">LinearRegression</label><div class=\"sk-toggleable__content\"><pre>LinearRegression()</pre></div></div></div></div></div>"
      ],
      "text/plain": [
       "LinearRegression()"
      ]
     },
     "execution_count": 70,
     "metadata": {},
     "output_type": "execute_result"
    }
   ],
   "source": [
    "#test the model\n",
    "lm3.fit(X = pd.DataFrame(grads['male_proportion']), y = grads['Median'])"
   ]
  },
  {
   "cell_type": "code",
   "execution_count": 71,
   "id": "c6a59a63-c00b-49ea-b14c-bcb477433e8b",
   "metadata": {},
   "outputs": [
    {
     "name": "stdout",
     "output_type": "stream",
     "text": [
      "40115.46504117375\n"
     ]
    }
   ],
   "source": [
    "# find the model intercept\n",
    "print(lm3.intercept_)"
   ]
  },
  {
   "cell_type": "code",
   "execution_count": 72,
   "id": "8f660af4-3fd6-4a9f-9bd4-5d4fd29ad8da",
   "metadata": {},
   "outputs": [
    {
     "name": "stdout",
     "output_type": "stream",
     "text": [
      "\n",
      "\n",
      "\n",
      "The model intercept suggests that when the male proportion is 0, the median income is $40,115.45 holding other variables constant\n",
      "\n",
      "\n",
      "\n"
     ]
    }
   ],
   "source": [
    "print('\\n\\n\\nThe model intercept suggests that when the male proportion is 0, the median income is $40,115.45 holding other variables \\\n",
    "constant\\n\\n\\n')"
   ]
  },
  {
   "cell_type": "code",
   "execution_count": null,
   "id": "fd975cd5-65a4-4abc-94cd-38d6f97cb99a",
   "metadata": {},
   "outputs": [],
   "source": [
    "#find the model coefficient"
   ]
  },
  {
   "cell_type": "code",
   "execution_count": 73,
   "id": "ebc9ec0e-fce0-4a49-beb0-7233b395c3bd",
   "metadata": {},
   "outputs": [
    {
     "name": "stdout",
     "output_type": "stream",
     "text": [
      "[15.43466416]\n"
     ]
    }
   ],
   "source": [
    "print(lm3.coef_)"
   ]
  },
  {
   "cell_type": "code",
   "execution_count": 74,
   "id": "8984840b-0ac1-4f59-a585-9bf0f1720641",
   "metadata": {},
   "outputs": [
    {
     "name": "stdout",
     "output_type": "stream",
     "text": [
      "\n",
      "\n",
      "\n",
      "The model coefficient suggests that for every 1 unit increase in the male proportion, the median salary increases by $15.43\n",
      "\n",
      "\n",
      "\n"
     ]
    }
   ],
   "source": [
    "print('\\n\\n\\nThe model coefficient suggests that for every 1 unit increase in the male proportion, the median salary increases by $15.43\\n\\n\\n')"
   ]
  },
  {
   "cell_type": "code",
   "execution_count": 75,
   "id": "a10c8a23-8c4a-4f6b-8874-9e18fff665ac",
   "metadata": {},
   "outputs": [
    {
     "data": {
      "text/plain": [
       "0.00015545545317086074"
      ]
     },
     "execution_count": 75,
     "metadata": {},
     "output_type": "execute_result"
    }
   ],
   "source": [
    "#find the model R-Squared\n",
    "lm3.score(X = pd.DataFrame(grads['male_proportion']), y = grads['Median'])"
   ]
  },
  {
   "cell_type": "code",
   "execution_count": 78,
   "id": "6df213a9-b052-42a6-9116-9b67cde135a1",
   "metadata": {},
   "outputs": [
    {
     "name": "stdout",
     "output_type": "stream",
     "text": [
      "\n",
      "\n",
      "\n",
      "A very R-Squared of 0.000155 suggest that less than 0.1% of the variance in median income is attributed to the male proportion in this         scenario holding all other variables constant\n",
      "\n",
      "\n",
      "\n"
     ]
    }
   ],
   "source": [
    "print('\\n\\n\\nA very R-Squared of 0.000155 suggest that less than 0.1% of the variance in median income is attributed to the male proportion in this\\\n",
    "         scenario holding all other variables constant\\n\\n\\n')"
   ]
  },
  {
   "cell_type": "code",
   "execution_count": null,
   "id": "622af5f2-cec2-4221-885a-c9aefc6f2e90",
   "metadata": {},
   "outputs": [],
   "source": []
  },
  {
   "cell_type": "code",
   "execution_count": null,
   "id": "762ebd18-82b4-4ef8-a3a6-2b9c959ed1d1",
   "metadata": {},
   "outputs": [],
   "source": []
  },
  {
   "cell_type": "code",
   "execution_count": null,
   "id": "21ad03a7-3e48-4699-bc0d-7f8e1c3df9ef",
   "metadata": {},
   "outputs": [],
   "source": [
    "# WHAT FACTORS (EG: MAJOR, GENDER, MAJOR CATEGORY) ARE MOST PREDICTIVE OF EMPLOYMENT OUTCOMES AND SALARY LEVELS"
   ]
  },
  {
   "cell_type": "code",
   "execution_count": null,
   "id": "0853c9b3-dd53-4b10-af70-90858e9722b1",
   "metadata": {},
   "outputs": [],
   "source": []
  },
  {
   "cell_type": "code",
   "execution_count": null,
   "id": "afb90e8b-d458-496a-9460-d13af1e163fc",
   "metadata": {},
   "outputs": [],
   "source": [
    "    #MAJOR:"
   ]
  },
  {
   "cell_type": "code",
   "execution_count": 83,
   "id": "733ae4f2-a59d-46a1-bbeb-820da9fb40f0",
   "metadata": {},
   "outputs": [
    {
     "name": "stdout",
     "output_type": "stream",
     "text": [
      "\n",
      "\n",
      "\n",
      "From my SQL data analysis, the majors with the highest median salary levels post graduation were the engineering fields with petroleum       engineering topping the chart at $110,000. Majors with the highest full-time, year-round employment rates are Mechanical Engineering related Technologies, Electricial, Mechanical, and Precision Technologies and Production, Court Reporting, Industrial Production Technologies,  and   Management Information Systems and Statistics\n",
      "\n",
      "\n",
      "\n"
     ]
    }
   ],
   "source": [
    "    print('\\n\\n\\nFrom my SQL data analysis, the majors with the highest median salary levels post graduation were the engineering fields with petroleum\\\n",
    "           engineering topping the chart at $110,000. Majors with the highest full-time, year-round employment rates are Mechanical Engineering related\\\n",
    "     Technologies, Electricial, Mechanical, and Precision Technologies and Production, Court Reporting, Industrial Production Technologies, \\\n",
    "     and   Management Information Systems and Statistics\\n\\n\\n')\n"
   ]
  },
  {
   "cell_type": "code",
   "execution_count": 84,
   "id": "a4f79d8d-06f4-4f33-b699-a3a640de6056",
   "metadata": {},
   "outputs": [
    {
     "name": "stdout",
     "output_type": "stream",
     "text": [
      "\n",
      "\n",
      "\n",
      "From my SQL data analysis, there was not a clear-cut difference in income levels between men and women\n",
      "\n",
      "\n",
      "\n"
     ]
    }
   ],
   "source": [
    "    #GENDER:\n",
    "    print('\\n\\n\\nFrom my SQL data analysis, there was not a clear-cut difference in income levels between men and women\\n\\n\\n')"
   ]
  },
  {
   "cell_type": "code",
   "execution_count": 86,
   "id": "5b21311c-de43-46b8-a3e6-f2646019190e",
   "metadata": {},
   "outputs": [
    {
     "name": "stdout",
     "output_type": "stream",
     "text": [
      "\n",
      "\n",
      "\n",
      "From my SQL analysis, the top 5 highest earning majors from the first to the fifth are Engineering, Business, Computer & Mathematics Law &   Public Policy, and Physical Sciences\n",
      "\n",
      "\n",
      "\n"
     ]
    }
   ],
   "source": [
    "    #MAJOR CATEGORY:\n",
    "    print('\\n\\n\\nFrom my SQL analysis, the top 5 highest earning majors from the first to the fifth are Engineering, Business, Computer & Mathematics \\\n",
    "Law &   Public Policy, and Physical Sciences\\n\\n\\n')"
   ]
  },
  {
   "cell_type": "code",
   "execution_count": 88,
   "id": "e079fb16-e3f0-46f9-9c6b-0a698444c051",
   "metadata": {},
   "outputs": [
    {
     "name": "stdout",
     "output_type": "stream",
     "text": [
      "\n",
      "\n",
      "\n",
      "CONCLUSION:\n",
      "\n",
      "A Student interested in increasing their chances at a financially rewarding job based on the dataset, should major in the engineering fields given that is the top highest Major Category, with a relatively high rate of employed graduates and the leading median income in both the 25th and 75th percentile\n",
      "\n",
      "\n",
      "\n"
     ]
    }
   ],
   "source": [
    "    print('\\n\\n\\nCONCLUSION:\\n\\nA Student interested in increasing their chances at a financially rewarding job based on the dataset, should major \\\n",
    "in the engineering fields given that is the top highest Major Category, with a relatively high rate of employed graduates and the leading median \\\n",
    "income in both the 25th and 75th percentile\\n\\n\\n')"
   ]
  },
  {
   "cell_type": "code",
   "execution_count": null,
   "id": "294229ee-b26e-49dc-8d53-7bffb606e9dd",
   "metadata": {},
   "outputs": [],
   "source": [
    "# SQL ANALYSIS IN THE OTHER FILE"
   ]
  }
 ],
 "metadata": {
  "kernelspec": {
   "display_name": "Python 3 (ipykernel)",
   "language": "python",
   "name": "python3"
  },
  "language_info": {
   "codemirror_mode": {
    "name": "ipython",
    "version": 3
   },
   "file_extension": ".py",
   "mimetype": "text/x-python",
   "name": "python",
   "nbconvert_exporter": "python",
   "pygments_lexer": "ipython3",
   "version": "3.11.7"
  }
 },
 "nbformat": 4,
 "nbformat_minor": 5
}
